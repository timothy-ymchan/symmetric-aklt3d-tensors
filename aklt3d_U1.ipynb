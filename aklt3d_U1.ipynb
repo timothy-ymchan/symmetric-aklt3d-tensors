{
 "cells": [
  {
   "cell_type": "markdown",
   "id": "48430fb6",
   "metadata": {},
   "source": [
    "# Constructing tensor with U(1) symmetry"
   ]
  },
  {
   "cell_type": "code",
   "execution_count": 41,
   "id": "46f4fefd",
   "metadata": {},
   "outputs": [],
   "source": [
    "using TensorKit"
   ]
  },
  {
   "cell_type": "code",
   "execution_count": 42,
   "id": "73031125",
   "metadata": {},
   "outputs": [
    {
     "data": {
      "text/plain": [
       "aklt3d_center (generic function with 1 method)"
      ]
     },
     "metadata": {},
     "output_type": "display_data"
    }
   ],
   "source": [
    "function aklt3d_center(a0,a1,a2)\n",
    "    V = ℝ^2\n",
    "    W = ℝ^7\n",
    "    f=Dict(0=>1,1=>a2,2=>a1,3=>a0)\n",
    "    M = TensorMap(zeros,W⊗V⊗V⊗V,V⊗V⊗V);\n",
    "    for s1 in 1:2\n",
    "        for s2 in 1:2 \n",
    "            for s3 in 1:2\n",
    "                for S in 1:7\n",
    "                    for s4 in 1:2\n",
    "                        for s5 in 1:2\n",
    "                            for s6 in 1:2 \n",
    "                                # Now si -> -3/2 + si ; S-> S-4\n",
    "                                if (s1 + s2 + s3 + s4 + s5 + s6 - 5) == S\n",
    "                                    M[S,s1,s2,s3,s4,s5,s6] = f[abs(S-4)]\n",
    "                                end\n",
    "                            end\n",
    "                        end\n",
    "                    end\n",
    "                end\n",
    "            end\n",
    "        end\n",
    "    end\n",
    "    X = TensorMap(zeros,V,V)\n",
    "    X[1,2] = X[2,1] = 1\n",
    "    @tensor M[S,s1,s2,s3,s4,s5,s6] := M[S,s1,s2,s3,ss4,ss5,ss6]*X[ss4,s4]*X[ss5,s5]*X[ss6,s6]\n",
    "    return M\n",
    "end"
   ]
  },
  {
   "cell_type": "code",
   "execution_count": 43,
   "id": "15890e7f",
   "metadata": {},
   "outputs": [],
   "source": [
    "a0,a1,a2 = 1,1,1 # rand(),rand(),rand()\n",
    "TT = aklt3d_center(a0,a1,a2); # Tensor without symmetry for benchmarking purpose"
   ]
  },
  {
   "cell_type": "code",
   "execution_count": 44,
   "id": "9c35c331",
   "metadata": {},
   "outputs": [
    {
     "data": {
      "text/plain": [
       "Rep[U₁](0=>1, 1=>1, -1=>1, 2=>1, -2=>1, 3=>1, -3=>1)"
      ]
     },
     "metadata": {},
     "output_type": "display_data"
    }
   ],
   "source": [
    "V = U1Space(1/2=>1,-1/2=>1) # The two spin labels of the spin 1/2 basis\n",
    "W = U1Space(0=>1,1=>1,-1=>1,2=>1,-2=>1,3=>1,-3=>1) # The virtual space"
   ]
  },
  {
   "cell_type": "code",
   "execution_count": 45,
   "id": "33a527c5",
   "metadata": {},
   "outputs": [
    {
     "name": "stdout",
     "output_type": "stream",
     "text": [
      "Charges on the right HalfIntegers.Half{Int64}[-1, 1/2, 1/2, 1/2]\n",
      "Charges on the left HalfIntegers.Half{Int64}[-1/2, 1/2, 1/2]\n",
      "Charges on the right HalfIntegers.Half{Int64}[1, -1/2, -1/2, 1/2]\n",
      "Charges on the left HalfIntegers.Half{Int64}[-1/2, 1/2, 1/2]\n",
      "Charges on the right HalfIntegers.Half{Int64}[1, -1/2, 1/2, -1/2]\n",
      "Charges on the left HalfIntegers.Half{Int64}[-1/2, 1/2, 1/2]\n",
      "Charges on the right HalfIntegers.Half{Int64}[0, -1/2, 1/2, 1/2]\n",
      "Charges on the left HalfIntegers.Half{Int64}[-1/2, 1/2, 1/2]\n",
      "Charges on the right HalfIntegers.Half{Int64}[0, 1/2, -1/2, 1/2]\n",
      "Charges on the left HalfIntegers.Half{Int64}[-1/2, 1/2, 1/2]\n",
      "Charges on the right HalfIntegers.Half{Int64}[0, 1/2, 1/2, -1/2]\n",
      "Charges on the left HalfIntegers.Half{Int64}[-1/2, 1/2, 1/2]\n",
      "Charges on the right HalfIntegers.Half{Int64}[1, 1/2, -1/2, -1/2]\n",
      "Charges on the left HalfIntegers.Half{Int64}[-1/2, 1/2, 1/2]\n",
      "Charges on the right HalfIntegers.Half{Int64}[2, -1/2, -1/2, -1/2]\n",
      "Charges on the left HalfIntegers.Half{Int64}[-1/2, 1/2, 1/2]\n",
      "Charges on the right HalfIntegers.Half{Int64}[-1, 1/2, 1/2, 1/2]\n",
      "Charges on the left HalfIntegers.Half{Int64}[1/2, -1/2, 1/2]\n",
      "Charges on the right HalfIntegers.Half{Int64}[1, -1/2, -1/2, 1/2]\n",
      "Charges on the left HalfIntegers.Half{Int64}[1/2, -1/2, 1/2]\n",
      "Charges on the right HalfIntegers.Half{Int64}[1, -1/2, 1/2, -1/2]\n",
      "Charges on the left HalfIntegers.Half{Int64}[1/2, -1/2, 1/2]\n",
      "Charges on the right HalfIntegers.Half{Int64}[0, -1/2, 1/2, 1/2]\n",
      "Charges on the left HalfIntegers.Half{Int64}[1/2, -1/2, 1/2]\n",
      "Charges on the right HalfIntegers.Half{Int64}[0, 1/2, -1/2, 1/2]\n",
      "Charges on the left HalfIntegers.Half{Int64}[1/2, -1/2, 1/2]\n",
      "Charges on the right HalfIntegers.Half{Int64}[0, 1/2, 1/2, -1/2]\n",
      "Charges on the left HalfIntegers.Half{Int64}[1/2, -1/2, 1/2]\n",
      "Charges on the right HalfIntegers.Half{Int64}[1, 1/2, -1/2, -1/2]\n",
      "Charges on the left HalfIntegers.Half{Int64}[1/2, -1/2, 1/2]\n",
      "Charges on the right HalfIntegers.Half{Int64}[2, -1/2, -1/2, -1/2]\n",
      "Charges on the left HalfIntegers.Half{Int64}[1/2, -1/2, 1/2]\n",
      "Charges on the right HalfIntegers.Half{Int64}[-1, 1/2, 1/2, 1/2]\n",
      "Charges on the left HalfIntegers.Half{Int64}[1/2, 1/2, -1/2]\n",
      "Charges on the right HalfIntegers.Half{Int64}[1, -1/2, -1/2, 1/2]\n",
      "Charges on the left HalfIntegers.Half{Int64}[1/2, 1/2, -1/2]\n",
      "Charges on the right HalfIntegers.Half{Int64}[1, -1/2, 1/2, -1/2]\n",
      "Charges on the left HalfIntegers.Half{Int64}[1/2, 1/2, -1/2]\n",
      "Charges on the right HalfIntegers.Half{Int64}[0, -1/2, 1/2, 1/2]\n",
      "Charges on the left HalfIntegers.Half{Int64}[1/2, 1/2, -1/2]\n",
      "Charges on the right HalfIntegers.Half{Int64}[0, 1/2, -1/2, 1/2]\n",
      "Charges on the left HalfIntegers.Half{Int64}[1/2, 1/2, -1/2]\n",
      "Charges on the right HalfIntegers.Half{Int64}[0, 1/2, 1/2, -1/2]\n",
      "Charges on the left HalfIntegers.Half{Int64}[1/2, 1/2, -1/2]\n",
      "Charges on the right HalfIntegers.Half{Int64}[1, 1/2, -1/2, -1/2]\n",
      "Charges on the left HalfIntegers.Half{Int64}[1/2, 1/2, -1/2]\n",
      "Charges on the right HalfIntegers.Half{Int64}[2, -1/2, -1/2, -1/2]\n",
      "Charges on the left HalfIntegers.Half{Int64}[1/2, 1/2, -1/2]\n",
      "Charges on the right HalfIntegers.Half{Int64}[-1, -1/2, 1/2, 1/2]\n",
      "Charges on the left HalfIntegers.Half{Int64}[-1/2, -1/2, 1/2]\n",
      "Charges on the right HalfIntegers.Half{Int64}[-1, 1/2, -1/2, 1/2]\n",
      "Charges on the left HalfIntegers.Half{Int64}[-1/2, -1/2, 1/2]\n",
      "Charges on the right HalfIntegers.Half{Int64}[-1, 1/2, 1/2, -1/2]\n",
      "Charges on the left HalfIntegers.Half{Int64}[-1/2, -1/2, 1/2]\n",
      "Charges on the right HalfIntegers.Half{Int64}[1, -1/2, -1/2, -1/2]\n",
      "Charges on the left HalfIntegers.Half{Int64}[-1/2, -1/2, 1/2]\n",
      "Charges on the right HalfIntegers.Half{Int64}[0, -1/2, -1/2, 1/2]\n",
      "Charges on the left HalfIntegers.Half{Int64}[-1/2, -1/2, 1/2]\n",
      "Charges on the right HalfIntegers.Half{Int64}[0, -1/2, 1/2, -1/2]\n",
      "Charges on the left HalfIntegers.Half{Int64}[-1/2, -1/2, 1/2]\n",
      "Charges on the right HalfIntegers.Half{Int64}[-2, 1/2, 1/2, 1/2]\n",
      "Charges on the left HalfIntegers.Half{Int64}[-1/2, -1/2, 1/2]\n",
      "Charges on the right HalfIntegers.Half{Int64}[0, 1/2, -1/2, -1/2]\n",
      "Charges on the left HalfIntegers.Half{Int64}[-1/2, -1/2, 1/2]\n",
      "Charges on the right HalfIntegers.Half{Int64}[-1, -1/2, 1/2, 1/2]\n",
      "Charges on the left HalfIntegers.Half{Int64}[-1/2, 1/2, -1/2]\n",
      "Charges on the right HalfIntegers.Half{Int64}[-1, 1/2, -1/2, 1/2]\n",
      "Charges on the left HalfIntegers.Half{Int64}[-1/2, 1/2, -1/2]\n",
      "Charges on the right HalfIntegers.Half{Int64}[-1, 1/2, 1/2, -1/2]\n",
      "Charges on the left HalfIntegers.Half{Int64}[-1/2, 1/2, -1/2]\n",
      "Charges on the right HalfIntegers.Half{Int64}[1, -1/2, -1/2, -1/2]\n",
      "Charges on the left HalfIntegers.Half{Int64}[-1/2, 1/2, -1/2]\n",
      "Charges on the right HalfIntegers.Half{Int64}[0, -1/2, -1/2, 1/2]\n",
      "Charges on the left HalfIntegers.Half{Int64}[-1/2, 1/2, -1/2]\n",
      "Charges on the right HalfIntegers.Half{Int64}[0, -1/2, 1/2, -1/2]\n",
      "Charges on the left HalfIntegers.Half{Int64}[-1/2, 1/2, -1/2]\n",
      "Charges on the right HalfIntegers.Half{Int64}[-2, 1/2, 1/2, 1/2]\n",
      "Charges on the left HalfIntegers.Half{Int64}[-1/2, 1/2, -1/2]\n",
      "Charges on the right HalfIntegers.Half{Int64}[0, 1/2, -1/2, -1/2]\n",
      "Charges on the left HalfIntegers.Half{Int64}[-1/2, 1/2, -1/2]\n",
      "Charges on the right HalfIntegers.Half{Int64}[-1, -1/2, 1/2, 1/2]\n",
      "Charges on the left HalfIntegers.Half{Int64}[1/2, -1/2, -1/2]\n",
      "Charges on the right HalfIntegers.Half{Int64}[-1, 1/2, -1/2, 1/2]\n",
      "Charges on the left HalfIntegers.Half{Int64}[1/2, -1/2, -1/2]\n",
      "Charges on the right HalfIntegers.Half{Int64}[-1, 1/2, 1/2, -1/2]\n",
      "Charges on the left HalfIntegers.Half{Int64}[1/2, -1/2, -1/2]\n",
      "Charges on the right HalfIntegers.Half{Int64}[1, -1/2, -1/2, -1/2]\n",
      "Charges on the left HalfIntegers.Half{Int64}[1/2, -1/2, -1/2]\n",
      "Charges on the right HalfIntegers.Half{Int64}[0, -1/2, -1/2, 1/2]\n",
      "Charges on the left HalfIntegers.Half{Int64}[1/2, -1/2, -1/2]\n",
      "Charges on the right HalfIntegers.Half{Int64}[0, -1/2, 1/2, -1/2]\n",
      "Charges on the left HalfIntegers.Half{Int64}[1/2, -1/2, -1/2]\n",
      "Charges on the right HalfIntegers.Half{Int64}[-2, 1/2, 1/2, 1/2]\n",
      "Charges on the left HalfIntegers.Half{Int64}[1/2, -1/2, -1/2]\n",
      "Charges on the right HalfIntegers.Half{Int64}[0, 1/2, -1/2, -1/2]\n",
      "Charges on the left HalfIntegers.Half{Int64}[1/2, -1/2, -1/2]\n",
      "Charges on the right HalfIntegers.Half{Int64}[1, -1/2, 1/2, 1/2]\n",
      "Charges on the left HalfIntegers.Half{Int64}[1/2, 1/2, 1/2]\n",
      "Charges on the right HalfIntegers.Half{Int64}[1, 1/2, -1/2, 1/2]\n",
      "Charges on the left HalfIntegers.Half{Int64}[1/2, 1/2, 1/2]\n",
      "Charges on the right HalfIntegers.Half{Int64}[0, 1/2, 1/2, 1/2]\n",
      "Charges on the left HalfIntegers.Half{Int64}[1/2, 1/2, 1/2]\n",
      "Charges on the right HalfIntegers.Half{Int64}[1, 1/2, 1/2, -1/2]\n",
      "Charges on the left HalfIntegers.Half{Int64}[1/2, 1/2, 1/2]\n",
      "Charges on the right HalfIntegers.Half{Int64}[3, -1/2, -1/2, -1/2]\n",
      "Charges on the left HalfIntegers.Half{Int64}[1/2, 1/2, 1/2]\n",
      "Charges on the right HalfIntegers.Half{Int64}[2, -1/2, -1/2, 1/2]\n",
      "Charges on the left HalfIntegers.Half{Int64}[1/2, 1/2, 1/2]\n",
      "Charges on the right HalfIntegers.Half{Int64}[2, -1/2, 1/2, -1/2]\n",
      "Charges on the left HalfIntegers.Half{Int64}[1/2, 1/2, 1/2]\n",
      "Charges on the right HalfIntegers.Half{Int64}[2, 1/2, -1/2, -1/2]\n",
      "Charges on the left HalfIntegers.Half{Int64}[1/2, 1/2, 1/2]\n",
      "Charges on the right HalfIntegers.Half{Int64}[-1, -1/2, -1/2, 1/2]\n",
      "Charges on the left HalfIntegers.Half{Int64}[-1/2, -1/2, -1/2]\n",
      "Charges on the right HalfIntegers.Half{Int64}[-3, 1/2, 1/2, 1/2]\n",
      "Charges on the left HalfIntegers.Half{Int64}[-1/2, -1/2, -1/2]\n",
      "Charges on the right HalfIntegers.Half{Int64}[-1, -1/2, 1/2, -1/2]\n",
      "Charges on the left HalfIntegers.Half{Int64}[-1/2, -1/2, -1/2]\n",
      "Charges on the right HalfIntegers.Half{Int64}[-1, 1/2, -1/2, -1/2]\n",
      "Charges on the left HalfIntegers.Half{Int64}[-1/2, -1/2, -1/2]\n",
      "Charges on the right HalfIntegers.Half{Int64}[0, -1/2, -1/2, -1/2]\n",
      "Charges on the left HalfIntegers.Half{Int64}[-1/2, -1/2, -1/2]\n",
      "Charges on the right HalfIntegers.Half{Int64}[-2, -1/2, 1/2, 1/2]\n",
      "Charges on the left HalfIntegers.Half{Int64}[-1/2, -1/2, -1/2]\n",
      "Charges on the right HalfIntegers.Half{Int64}[-2, 1/2, -1/2, 1/2]\n",
      "Charges on the left HalfIntegers.Half{Int64}[-1/2, -1/2, -1/2]\n",
      "Charges on the right HalfIntegers.Half{Int64}[-2, 1/2, 1/2, -1/2]\n",
      "Charges on the left HalfIntegers.Half{Int64}[-1/2, -1/2, -1/2]\n"
     ]
    }
   ],
   "source": [
    "T = TensorMap(zeros,W⊗V⊗V⊗V,V⊗V⊗V)\n",
    "f=Dict(0=>1,1=>a2,2=>a1,3=>a0)\n",
    "for (f1,f2) in fusiontrees(T)\n",
    "    println(\"Charges on the right \", [i.charge for i in f1.uncoupled])\n",
    "    println(\"Charges on the left \", [i.charge for i in f2.uncoupled])\n",
    "    j = abs(Int(f1.uncoupled[1].charge)) # Get charge in W leg\n",
    "    T[f1,f2] .= f[j]\n",
    "end"
   ]
  },
  {
   "cell_type": "code",
   "execution_count": 46,
   "id": "56afd780",
   "metadata": {},
   "outputs": [],
   "source": [
    "AA = convert(Array,T);"
   ]
  },
  {
   "cell_type": "code",
   "execution_count": 47,
   "id": "bdf3a42c",
   "metadata": {},
   "outputs": [
    {
     "data": {
      "text/plain": [
       "0.0"
      ]
     },
     "metadata": {},
     "output_type": "display_data"
    }
   ],
   "source": [
    "AA[1,1,1,1,1,1,2] # I think the charges should work out, but you should double check, I am too lazy "
   ]
  },
  {
   "cell_type": "code",
   "execution_count": 48,
   "id": "35cee953",
   "metadata": {},
   "outputs": [],
   "source": []
  }
 ],
 "metadata": {
  "kernelspec": {
   "display_name": "Julia 1.11.5",
   "language": "julia",
   "name": "julia-1.11"
  },
  "language_info": {
   "file_extension": ".jl",
   "mimetype": "application/julia",
   "name": "julia",
   "version": "1.11.5"
  }
 },
 "nbformat": 4,
 "nbformat_minor": 5
}
