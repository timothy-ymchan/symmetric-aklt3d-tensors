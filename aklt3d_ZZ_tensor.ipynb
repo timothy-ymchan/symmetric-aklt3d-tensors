{
 "cells": [
  {
   "cell_type": "markdown",
   "id": "b540c379",
   "metadata": {},
   "source": [
    "# Construction of ZZ tensor in O(2) space "
   ]
  },
  {
   "cell_type": "code",
   "execution_count": 1,
   "id": "5b731cfe",
   "metadata": {},
   "outputs": [],
   "source": [
    "using TensorKit "
   ]
  },
  {
   "cell_type": "code",
   "execution_count": 2,
   "id": "e3d454b6",
   "metadata": {},
   "outputs": [
    {
     "data": {
      "text/plain": [
       "Rep[CU₁]((1/2, 2)=>1)"
      ]
     },
     "metadata": {},
     "output_type": "display_data"
    }
   ],
   "source": [
    "V = CU1Space((1/2,2)=>1) # Physical space "
   ]
  },
  {
   "cell_type": "code",
   "execution_count": 3,
   "id": "fbaad577",
   "metadata": {},
   "outputs": [],
   "source": [
    "ZZ = TensorMap(zeros,V⊗V,V⊗V)\n",
    "for (f1,f2) in fusiontrees(ZZ)\n",
    "    n =  f1.coupled.j\n",
    "    ZZ[f1,f2] .= (-1)^(n-1)\n",
    "end"
   ]
  },
  {
   "cell_type": "code",
   "execution_count": 4,
   "id": "01b72c58",
   "metadata": {},
   "outputs": [
    {
     "data": {
      "text/plain": [
       "TensorMap((Rep[CU₁]((1/2, 2)=>1) ⊗ Rep[CU₁]((1/2, 2)=>1)) ← (Rep[CU₁]((1/2, 2)=>1) ⊗ Rep[CU₁]((1/2, 2)=>1))):\n",
       "* Data for fusiontree FusionTree{Irrep[CU₁]}(((1/2, 2), (1/2, 2)), (0, 0), (false, false), ()) ← FusionTree{Irrep[CU₁]}(((1/2, 2), (1/2, 2)), (0, 0), (false, false), ()):\n",
       "[:, :, 1, 1] =\n",
       " -1.0\n",
       "* Data for fusiontree FusionTree{Irrep[CU₁]}(((1/2, 2), (1/2, 2)), (0, 1), (false, false), ()) ← FusionTree{Irrep[CU₁]}(((1/2, 2), (1/2, 2)), (0, 1), (false, false), ()):\n",
       "[:, :, 1, 1] =\n",
       " -1.0\n",
       "* Data for fusiontree FusionTree{Irrep[CU₁]}(((1/2, 2), (1/2, 2)), (1, 2), (false, false), ()) ← FusionTree{Irrep[CU₁]}(((1/2, 2), (1/2, 2)), (1, 2), (false, false), ()):\n",
       "[:, :, 1, 1] =\n",
       " 1.0\n"
      ]
     },
     "metadata": {},
     "output_type": "display_data"
    }
   ],
   "source": [
    "ZZ"
   ]
  },
  {
   "cell_type": "code",
   "execution_count": 5,
   "id": "46997450",
   "metadata": {},
   "outputs": [
    {
     "data": {
      "text/plain": [
       "2×2×2×2 Array{Float64, 4}:\n",
       "[:, :, 1, 1] =\n",
       " 1.0  0.0\n",
       " 0.0  0.0\n",
       "\n",
       "[:, :, 2, 1] =\n",
       "  0.0  0.0\n",
       " -1.0  0.0\n",
       "\n",
       "[:, :, 1, 2] =\n",
       " 0.0  -1.0\n",
       " 0.0   0.0\n",
       "\n",
       "[:, :, 2, 2] =\n",
       " 0.0  0.0\n",
       " 0.0  1.0"
      ]
     },
     "metadata": {},
     "output_type": "display_data"
    }
   ],
   "source": [
    "convert(Array,ZZ) # Double check that the code works"
   ]
  },
  {
   "cell_type": "markdown",
   "id": "868a90fc",
   "metadata": {},
   "source": [
    "## Combining legs "
   ]
  },
  {
   "cell_type": "code",
   "execution_count": 6,
   "id": "87ff2887",
   "metadata": {},
   "outputs": [
    {
     "data": {
      "text/plain": [
       "Rep[CU₁]((0, 0)=>1, (0, 1)=>1, (1, 2)=>1)"
      ]
     },
     "metadata": {},
     "output_type": "display_data"
    }
   ],
   "source": [
    "U = fuse(V⊗V)"
   ]
  },
  {
   "cell_type": "code",
   "execution_count": 7,
   "id": "4a336972",
   "metadata": {},
   "outputs": [],
   "source": [
    "legs_binder = TensorMap(zeros,U,V⊗V)\n",
    "for (f1,f2) in fusiontrees(legs_binder)\n",
    "    legs_binder[f1,f2] .= 1\n",
    "end"
   ]
  },
  {
   "cell_type": "code",
   "execution_count": 8,
   "id": "a751e508",
   "metadata": {},
   "outputs": [
    {
     "data": {
      "text/plain": [
       "TensorMap((Rep[CU₁]((0, 0)=>1, (0, 1)=>1, (1, 2)=>1) ⊗ Rep[CU₁]((0, 0)=>1, (0, 1)=>1, (1, 2)=>1)') ← ProductSpace{GradedSpace{CU1Irrep, TensorKit.SortedVectorDict{CU1Irrep, Int64}}, 0}()):\n",
       "* Data for fusiontree FusionTree{Irrep[CU₁]}(((0, 1), (0, 1)), (0, 0), (false, true), ()) ← FusionTree{Irrep[CU₁]}((), (0, 0), (), ()):\n",
       " -1.0\n",
       "* Data for fusiontree FusionTree{Irrep[CU₁]}(((0, 0), (0, 0)), (0, 0), (false, true), ()) ← FusionTree{Irrep[CU₁]}((), (0, 0), (), ()):\n",
       " -1.0\n",
       "* Data for fusiontree FusionTree{Irrep[CU₁]}(((1, 2), (1, 2)), (0, 0), (false, true), ()) ← FusionTree{Irrep[CU₁]}((), (0, 0), (), ()):\n",
       " 1.4142135623730951\n"
      ]
     },
     "metadata": {},
     "output_type": "display_data"
    }
   ],
   "source": [
    "@tensor ZZ_comb[a,b] := legs_binder[a,ii,jj]*ZZ[ii,jj,kk,ll]*conj(legs_binder[b,kk,ll])"
   ]
  },
  {
   "cell_type": "code",
   "execution_count": 9,
   "id": "7f35f98c",
   "metadata": {},
   "outputs": [
    {
     "data": {
      "text/plain": [
       "4×4 Matrix{Float64}:\n",
       " -1.0   0.0  0.0  0.0\n",
       "  0.0  -1.0  0.0  0.0\n",
       "  0.0   0.0  1.0  0.0\n",
       "  0.0   0.0  0.0  1.0"
      ]
     },
     "metadata": {},
     "output_type": "display_data"
    }
   ],
   "source": [
    "convert(Array,ZZ_comb) # Notice this make sense if you remember the leg orders "
   ]
  },
  {
   "cell_type": "markdown",
   "id": "9a72b606",
   "metadata": {},
   "source": [
    "# U(1) fusion tensor test"
   ]
  },
  {
   "cell_type": "code",
   "execution_count": 10,
   "id": "03141095",
   "metadata": {},
   "outputs": [
    {
     "data": {
      "text/plain": [
       "Rep[U₁](1/2=>1, -1/2=>1)"
      ]
     },
     "metadata": {},
     "output_type": "display_data"
    }
   ],
   "source": [
    "V = U1Space(1/2=>1, -1/2=>1)"
   ]
  },
  {
   "cell_type": "code",
   "execution_count": 33,
   "id": "6f384a59",
   "metadata": {},
   "outputs": [],
   "source": [
    "Z = TensorMap(zeros,V,V)\n",
    "for (f1,f2) in fusiontrees(Z)\n",
    "    n = f1.coupled.charge \n",
    "    Z[f1,f2] .= n == 1/2 ? 1 : -1\n",
    "end"
   ]
  },
  {
   "cell_type": "code",
   "execution_count": 34,
   "id": "d90da8cd",
   "metadata": {},
   "outputs": [
    {
     "data": {
      "text/plain": [
       "2×2 Matrix{Float64}:\n",
       " 1.0   0.0\n",
       " 0.0  -1.0"
      ]
     },
     "metadata": {},
     "output_type": "display_data"
    }
   ],
   "source": [
    "convert(Array,Z) # Double check that the code works"
   ]
  },
  {
   "cell_type": "code",
   "execution_count": 37,
   "id": "c3581272",
   "metadata": {},
   "outputs": [
    {
     "data": {
      "text/plain": [
       "2×2×2×2 Array{Float64, 4}:\n",
       "[:, :, 1, 1] =\n",
       " 1.0  0.0\n",
       " 0.0  0.0\n",
       "\n",
       "[:, :, 2, 1] =\n",
       "  0.0  0.0\n",
       " -1.0  0.0\n",
       "\n",
       "[:, :, 1, 2] =\n",
       " 0.0  -1.0\n",
       " 0.0   0.0\n",
       "\n",
       "[:, :, 2, 2] =\n",
       " 0.0  0.0\n",
       " 0.0  1.0"
      ]
     },
     "metadata": {},
     "output_type": "display_data"
    }
   ],
   "source": [
    "ZZ = Z⊗Z;\n",
    "convert(Array,ZZ) # Double check that the code works"
   ]
  },
  {
   "cell_type": "code",
   "execution_count": 38,
   "id": "f3c7143e",
   "metadata": {},
   "outputs": [
    {
     "data": {
      "text/plain": [
       "Rep[U₁](0=>2, 1=>1, -1=>1)"
      ]
     },
     "metadata": {},
     "output_type": "display_data"
    }
   ],
   "source": [
    "W = fuse(V⊗V)"
   ]
  },
  {
   "cell_type": "code",
   "execution_count": 39,
   "id": "c036a0cd",
   "metadata": {},
   "outputs": [
    {
     "data": {
      "text/plain": [
       "TensorMap(Rep[U₁](0=>2, 1=>1, -1=>1) ← (Rep[U₁](1/2=>1, -1/2=>1) ⊗ Rep[U₁](1/2=>1, -1/2=>1))):\n",
       "* Data for sector (Irrep[U₁](0),) ← (Irrep[U₁](-1/2), Irrep[U₁](1/2)):\n",
       "[:, :, 1] =\n",
       " 1.0\n",
       " 0.0\n",
       "* Data for sector (Irrep[U₁](0),) ← (Irrep[U₁](1/2), Irrep[U₁](-1/2)):\n",
       "[:, :, 1] =\n",
       " 0.0\n",
       " 1.0\n",
       "* Data for sector (Irrep[U₁](1),) ← (Irrep[U₁](1/2), Irrep[U₁](1/2)):\n",
       "[:, :, 1] =\n",
       " 1.0\n",
       "* Data for sector (Irrep[U₁](-1),) ← (Irrep[U₁](-1/2), Irrep[U₁](-1/2)):\n",
       "[:, :, 1] =\n",
       " 1.0\n"
      ]
     },
     "metadata": {},
     "output_type": "display_data"
    }
   ],
   "source": [
    "F = isomorphism(W,V⊗V)"
   ]
  },
  {
   "cell_type": "code",
   "execution_count": 40,
   "id": "9bb135b0",
   "metadata": {},
   "outputs": [
    {
     "data": {
      "text/plain": [
       "TensorMap((Rep[U₁](0=>2, 1=>1, -1=>1) ⊗ Rep[U₁](0=>2, 1=>1, -1=>1)') ← ProductSpace{GradedSpace{U1Irrep, TensorKit.SortedVectorDict{U1Irrep, Int64}}, 0}()):\n",
       "* Data for sector (Irrep[U₁](1), Irrep[U₁](-1)) ← ():\n",
       " 1.0\n",
       "* Data for sector (Irrep[U₁](0), Irrep[U₁](0)) ← ():\n",
       " -1.0   0.0\n",
       "  0.0  -1.0\n",
       "* Data for sector (Irrep[U₁](-1), Irrep[U₁](1)) ← ():\n",
       " 1.0\n"
      ]
     },
     "metadata": {},
     "output_type": "display_data"
    }
   ],
   "source": [
    "@tensor ZZ_comb2[a,b] := F[a,ii,jj]*ZZ[ii,jj,kk,ll]*conj(F[b,kk,ll])"
   ]
  },
  {
   "cell_type": "code",
   "execution_count": 41,
   "id": "0aeaa933",
   "metadata": {},
   "outputs": [
    {
     "data": {
      "text/plain": [
       "4×4 Matrix{Float64}:\n",
       " -1.0   0.0  0.0  0.0\n",
       "  0.0  -1.0  0.0  0.0\n",
       "  0.0   0.0  1.0  0.0\n",
       "  0.0   0.0  0.0  1.0"
      ]
     },
     "metadata": {},
     "output_type": "display_data"
    }
   ],
   "source": [
    "convert(Array,ZZ_comb2) # Double check that the code works"
   ]
  },
  {
   "cell_type": "code",
   "execution_count": null,
   "id": "2e780069",
   "metadata": {},
   "outputs": [],
   "source": []
  }
 ],
 "metadata": {
  "kernelspec": {
   "display_name": "Julia 1.11.5",
   "language": "julia",
   "name": "julia-1.11"
  },
  "language_info": {
   "file_extension": ".jl",
   "mimetype": "application/julia",
   "name": "julia",
   "version": "1.11.5"
  }
 },
 "nbformat": 4,
 "nbformat_minor": 5
}
